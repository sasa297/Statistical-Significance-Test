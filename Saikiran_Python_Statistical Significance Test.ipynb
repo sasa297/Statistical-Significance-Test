{
 "cells": [
  {
   "cell_type": "markdown",
   "metadata": {},
   "source": [
    "# Assignment 2\n",
    "## New Car Loan Interest Rates\n",
    "#### Submitted By : Saikiran N. Pasikanti"
   ]
  },
  {
   "cell_type": "code",
   "execution_count": 1,
   "metadata": {
    "collapsed": true
   },
   "outputs": [],
   "source": [
    "import pandas as pd\n",
    "import os\n",
    "from scipy import stats\n",
    "\n",
    "# Set directory\n",
    "os.chdir(\"C://Users/Sai/Desktop/PYTHON_007/Assignments/Assignment1\")\n",
    "\n",
    "# Importing the .dat file\n",
    "car = pd.read_table(\"newcar.dat\", skiprows=25, sep=\"\\s+\", names=['Y','X'])"
   ]
  },
  {
   "cell_type": "code",
   "execution_count": 2,
   "metadata": {},
   "outputs": [
    {
     "data": {
      "text/html": [
       "<div>\n",
       "<style>\n",
       "    .dataframe thead tr:only-child th {\n",
       "        text-align: right;\n",
       "    }\n",
       "\n",
       "    .dataframe thead th {\n",
       "        text-align: left;\n",
       "    }\n",
       "\n",
       "    .dataframe tbody tr th {\n",
       "        vertical-align: top;\n",
       "    }\n",
       "</style>\n",
       "<table border=\"1\" class=\"dataframe\">\n",
       "  <thead>\n",
       "    <tr style=\"text-align: right;\">\n",
       "      <th></th>\n",
       "      <th>Y</th>\n",
       "      <th>X</th>\n",
       "    </tr>\n",
       "  </thead>\n",
       "  <tbody>\n",
       "    <tr>\n",
       "      <th>0</th>\n",
       "      <td>13.75</td>\n",
       "      <td>1</td>\n",
       "    </tr>\n",
       "    <tr>\n",
       "      <th>1</th>\n",
       "      <td>13.75</td>\n",
       "      <td>1</td>\n",
       "    </tr>\n",
       "    <tr>\n",
       "      <th>2</th>\n",
       "      <td>13.50</td>\n",
       "      <td>1</td>\n",
       "    </tr>\n",
       "    <tr>\n",
       "      <th>3</th>\n",
       "      <td>13.50</td>\n",
       "      <td>1</td>\n",
       "    </tr>\n",
       "    <tr>\n",
       "      <th>4</th>\n",
       "      <td>13.00</td>\n",
       "      <td>1</td>\n",
       "    </tr>\n",
       "  </tbody>\n",
       "</table>\n",
       "</div>"
      ],
      "text/plain": [
       "       Y  X\n",
       "0  13.75  1\n",
       "1  13.75  1\n",
       "2  13.50  1\n",
       "3  13.50  1\n",
       "4  13.00  1"
      ]
     },
     "execution_count": 2,
     "metadata": {},
     "output_type": "execute_result"
    }
   ],
   "source": [
    "car.head()"
   ]
  },
  {
   "cell_type": "code",
   "execution_count": 3,
   "metadata": {},
   "outputs": [
    {
     "data": {
      "text/html": [
       "<div>\n",
       "<style>\n",
       "    .dataframe thead tr:only-child th {\n",
       "        text-align: right;\n",
       "    }\n",
       "\n",
       "    .dataframe thead th {\n",
       "        text-align: left;\n",
       "    }\n",
       "\n",
       "    .dataframe tbody tr th {\n",
       "        vertical-align: top;\n",
       "    }\n",
       "</style>\n",
       "<table border=\"1\" class=\"dataframe\">\n",
       "  <thead>\n",
       "    <tr style=\"text-align: right;\">\n",
       "      <th></th>\n",
       "      <th>C1</th>\n",
       "      <th>C2</th>\n",
       "      <th>C3</th>\n",
       "      <th>C4</th>\n",
       "      <th>C5</th>\n",
       "      <th>C6</th>\n",
       "    </tr>\n",
       "  </thead>\n",
       "  <tbody>\n",
       "    <tr>\n",
       "      <th>0</th>\n",
       "      <td>13.75</td>\n",
       "      <td>14.25</td>\n",
       "      <td>14.00</td>\n",
       "      <td>15.00</td>\n",
       "      <td>14.50</td>\n",
       "      <td>13.50</td>\n",
       "    </tr>\n",
       "    <tr>\n",
       "      <th>1</th>\n",
       "      <td>13.75</td>\n",
       "      <td>13.00</td>\n",
       "      <td>14.00</td>\n",
       "      <td>14.00</td>\n",
       "      <td>14.00</td>\n",
       "      <td>12.25</td>\n",
       "    </tr>\n",
       "    <tr>\n",
       "      <th>2</th>\n",
       "      <td>13.50</td>\n",
       "      <td>12.75</td>\n",
       "      <td>13.51</td>\n",
       "      <td>13.75</td>\n",
       "      <td>14.00</td>\n",
       "      <td>12.25</td>\n",
       "    </tr>\n",
       "    <tr>\n",
       "      <th>3</th>\n",
       "      <td>13.50</td>\n",
       "      <td>12.50</td>\n",
       "      <td>13.50</td>\n",
       "      <td>13.59</td>\n",
       "      <td>13.90</td>\n",
       "      <td>12.00</td>\n",
       "    </tr>\n",
       "    <tr>\n",
       "      <th>4</th>\n",
       "      <td>13.00</td>\n",
       "      <td>12.50</td>\n",
       "      <td>13.50</td>\n",
       "      <td>13.25</td>\n",
       "      <td>13.75</td>\n",
       "      <td>12.00</td>\n",
       "    </tr>\n",
       "    <tr>\n",
       "      <th>5</th>\n",
       "      <td>13.00</td>\n",
       "      <td>12.40</td>\n",
       "      <td>13.25</td>\n",
       "      <td>12.97</td>\n",
       "      <td>13.25</td>\n",
       "      <td>12.00</td>\n",
       "    </tr>\n",
       "    <tr>\n",
       "      <th>6</th>\n",
       "      <td>13.00</td>\n",
       "      <td>12.30</td>\n",
       "      <td>13.00</td>\n",
       "      <td>12.50</td>\n",
       "      <td>13.00</td>\n",
       "      <td>12.00</td>\n",
       "    </tr>\n",
       "    <tr>\n",
       "      <th>7</th>\n",
       "      <td>12.75</td>\n",
       "      <td>11.90</td>\n",
       "      <td>12.50</td>\n",
       "      <td>12.25</td>\n",
       "      <td>12.50</td>\n",
       "      <td>11.90</td>\n",
       "    </tr>\n",
       "    <tr>\n",
       "      <th>8</th>\n",
       "      <td>12.50</td>\n",
       "      <td>11.90</td>\n",
       "      <td>12.50</td>\n",
       "      <td>11.89</td>\n",
       "      <td>12.45</td>\n",
       "      <td>11.90</td>\n",
       "    </tr>\n",
       "  </tbody>\n",
       "</table>\n",
       "</div>"
      ],
      "text/plain": [
       "      C1     C2     C3     C4     C5     C6\n",
       "0  13.75  14.25  14.00  15.00  14.50  13.50\n",
       "1  13.75  13.00  14.00  14.00  14.00  12.25\n",
       "2  13.50  12.75  13.51  13.75  14.00  12.25\n",
       "3  13.50  12.50  13.50  13.59  13.90  12.00\n",
       "4  13.00  12.50  13.50  13.25  13.75  12.00\n",
       "5  13.00  12.40  13.25  12.97  13.25  12.00\n",
       "6  13.00  12.30  13.00  12.50  13.00  12.00\n",
       "7  12.75  11.90  12.50  12.25  12.50  11.90\n",
       "8  12.50  11.90  12.50  11.89  12.45  11.90"
      ]
     },
     "execution_count": 3,
     "metadata": {},
     "output_type": "execute_result"
    }
   ],
   "source": [
    "df1 = car.loc[car['X'] == 1].reset_index(drop=True)\n",
    "df2 = car.loc[car['X'] == 2].reset_index(drop=True)\n",
    "df3 = car.loc[car['X'] == 3].reset_index(drop=True)\n",
    "df4 = car.loc[car['X'] == 4].reset_index(drop=True)\n",
    "df5 = car.loc[car['X'] == 5].reset_index(drop=True)\n",
    "df6 = car.loc[car['X'] == 6].reset_index(drop=True)\n",
    "\n",
    "df7 = pd.concat([df1, df2,df3, df4, df5, df6], axis=1)\n",
    "\n",
    "df = df7.drop(['X'],axis=1)\n",
    "\n",
    "df.columns = ['C1', 'C2', 'C3', 'C4', 'C5', 'C6']\n",
    "df"
   ]
  },
  {
   "cell_type": "code",
   "execution_count": 4,
   "metadata": {},
   "outputs": [
    {
     "data": {
      "text/plain": [
       "C1    float64\n",
       "C2    float64\n",
       "C3    float64\n",
       "C4    float64\n",
       "C5    float64\n",
       "C6    float64\n",
       "dtype: object"
      ]
     },
     "execution_count": 4,
     "metadata": {},
     "output_type": "execute_result"
    }
   ],
   "source": [
    "## Interest rates are in highest to lowest orders\n",
    "## Rows = Interest rate records from various banks\n",
    "## Columns = Cities\n",
    "\n",
    "df.dtypes"
   ]
  },
  {
   "cell_type": "code",
   "execution_count": 6,
   "metadata": {},
   "outputs": [
    {
     "data": {
      "text/plain": [
       "C1    13.194444\n",
       "C2    12.611111\n",
       "C3    13.306667\n",
       "C4    13.244444\n",
       "C5    13.483333\n",
       "C6    12.200000\n",
       "dtype: float64"
      ]
     },
     "execution_count": 6,
     "metadata": {},
     "output_type": "execute_result"
    }
   ],
   "source": [
    "df.mean()"
   ]
  },
  {
   "cell_type": "code",
   "execution_count": 33,
   "metadata": {},
   "outputs": [
    {
     "data": {
      "text/plain": [
       "C1    0.446825\n",
       "C2    0.710096\n",
       "C3    0.556350\n",
       "C4    0.967007\n",
       "C5    0.718940\n",
       "C6    0.504356\n",
       "dtype: float64"
      ]
     },
     "execution_count": 33,
     "metadata": {},
     "output_type": "execute_result"
    }
   ],
   "source": [
    "# The standard deviation of interest rates in all the cities\n",
    "df.std(ddof=1)"
   ]
  },
  {
   "cell_type": "code",
   "execution_count": 37,
   "metadata": {},
   "outputs": [
    {
     "data": {
      "text/plain": [
       "C1    0.199653\n",
       "C2    0.504236\n",
       "C3    0.309525\n",
       "C4    0.935103\n",
       "C5    0.516875\n",
       "C6    0.254375\n",
       "dtype: float64"
      ]
     },
     "execution_count": 37,
     "metadata": {},
     "output_type": "execute_result"
    }
   ],
   "source": [
    "# The variance of interest rates in all the cities\n",
    "df.var()"
   ]
  },
  {
   "cell_type": "code",
   "execution_count": 5,
   "metadata": {},
   "outputs": [
    {
     "data": {
      "text/html": [
       "<div>\n",
       "<style>\n",
       "    .dataframe thead tr:only-child th {\n",
       "        text-align: right;\n",
       "    }\n",
       "\n",
       "    .dataframe thead th {\n",
       "        text-align: left;\n",
       "    }\n",
       "\n",
       "    .dataframe tbody tr th {\n",
       "        vertical-align: top;\n",
       "    }\n",
       "</style>\n",
       "<table border=\"1\" class=\"dataframe\">\n",
       "  <thead>\n",
       "    <tr style=\"text-align: right;\">\n",
       "      <th></th>\n",
       "      <th>C1</th>\n",
       "      <th>C2</th>\n",
       "      <th>C3</th>\n",
       "      <th>C4</th>\n",
       "      <th>C5</th>\n",
       "      <th>C6</th>\n",
       "    </tr>\n",
       "  </thead>\n",
       "  <tbody>\n",
       "    <tr>\n",
       "      <th>0</th>\n",
       "      <td>0.555556</td>\n",
       "      <td>1.638889</td>\n",
       "      <td>0.693333</td>\n",
       "      <td>1.755556</td>\n",
       "      <td>1.016667</td>\n",
       "      <td>1.30</td>\n",
       "    </tr>\n",
       "    <tr>\n",
       "      <th>1</th>\n",
       "      <td>0.555556</td>\n",
       "      <td>0.388889</td>\n",
       "      <td>0.693333</td>\n",
       "      <td>0.755556</td>\n",
       "      <td>0.516667</td>\n",
       "      <td>0.05</td>\n",
       "    </tr>\n",
       "    <tr>\n",
       "      <th>2</th>\n",
       "      <td>0.305556</td>\n",
       "      <td>0.138889</td>\n",
       "      <td>0.203333</td>\n",
       "      <td>0.505556</td>\n",
       "      <td>0.516667</td>\n",
       "      <td>0.05</td>\n",
       "    </tr>\n",
       "    <tr>\n",
       "      <th>3</th>\n",
       "      <td>0.305556</td>\n",
       "      <td>-0.111111</td>\n",
       "      <td>0.193333</td>\n",
       "      <td>0.345556</td>\n",
       "      <td>0.416667</td>\n",
       "      <td>-0.20</td>\n",
       "    </tr>\n",
       "    <tr>\n",
       "      <th>4</th>\n",
       "      <td>-0.194444</td>\n",
       "      <td>-0.111111</td>\n",
       "      <td>0.193333</td>\n",
       "      <td>0.005556</td>\n",
       "      <td>0.266667</td>\n",
       "      <td>-0.20</td>\n",
       "    </tr>\n",
       "    <tr>\n",
       "      <th>5</th>\n",
       "      <td>-0.194444</td>\n",
       "      <td>-0.211111</td>\n",
       "      <td>-0.056667</td>\n",
       "      <td>-0.274444</td>\n",
       "      <td>-0.233333</td>\n",
       "      <td>-0.20</td>\n",
       "    </tr>\n",
       "    <tr>\n",
       "      <th>6</th>\n",
       "      <td>-0.194444</td>\n",
       "      <td>-0.311111</td>\n",
       "      <td>-0.306667</td>\n",
       "      <td>-0.744444</td>\n",
       "      <td>-0.483333</td>\n",
       "      <td>-0.20</td>\n",
       "    </tr>\n",
       "    <tr>\n",
       "      <th>7</th>\n",
       "      <td>-0.444444</td>\n",
       "      <td>-0.711111</td>\n",
       "      <td>-0.806667</td>\n",
       "      <td>-0.994444</td>\n",
       "      <td>-0.983333</td>\n",
       "      <td>-0.30</td>\n",
       "    </tr>\n",
       "    <tr>\n",
       "      <th>8</th>\n",
       "      <td>-0.694444</td>\n",
       "      <td>-0.711111</td>\n",
       "      <td>-0.806667</td>\n",
       "      <td>-1.354444</td>\n",
       "      <td>-1.033333</td>\n",
       "      <td>-0.30</td>\n",
       "    </tr>\n",
       "  </tbody>\n",
       "</table>\n",
       "</div>"
      ],
      "text/plain": [
       "         C1        C2        C3        C4        C5    C6\n",
       "0  0.555556  1.638889  0.693333  1.755556  1.016667  1.30\n",
       "1  0.555556  0.388889  0.693333  0.755556  0.516667  0.05\n",
       "2  0.305556  0.138889  0.203333  0.505556  0.516667  0.05\n",
       "3  0.305556 -0.111111  0.193333  0.345556  0.416667 -0.20\n",
       "4 -0.194444 -0.111111  0.193333  0.005556  0.266667 -0.20\n",
       "5 -0.194444 -0.211111 -0.056667 -0.274444 -0.233333 -0.20\n",
       "6 -0.194444 -0.311111 -0.306667 -0.744444 -0.483333 -0.20\n",
       "7 -0.444444 -0.711111 -0.806667 -0.994444 -0.983333 -0.30\n",
       "8 -0.694444 -0.711111 -0.806667 -1.354444 -1.033333 -0.30"
      ]
     },
     "execution_count": 5,
     "metadata": {},
     "output_type": "execute_result"
    }
   ],
   "source": [
    "df8 = df-df.mean()\n",
    "df8\n",
    "# Sweeping out city means\n",
    "# The nine entries in each column are the remainders after subtracting\n",
    "#  the column means from the data values\n",
    "# They are the deviation of each replication from the cell mean"
   ]
  },
  {
   "cell_type": "markdown",
   "metadata": {},
   "source": [
    "Above tables is nothing but residual after fitting a linear mean curve\n",
    "\n",
    "Variable City effect will be calculated in next step"
   ]
  },
  {
   "cell_type": "code",
   "execution_count": 34,
   "metadata": {},
   "outputs": [
    {
     "data": {
      "text/plain": [
       "C1    0.446825\n",
       "C2    0.710096\n",
       "C3    0.556350\n",
       "C4    0.967007\n",
       "C5    0.718940\n",
       "C6    0.504356\n",
       "dtype: float64"
      ]
     },
     "execution_count": 34,
     "metadata": {},
     "output_type": "execute_result"
    }
   ],
   "source": [
    "df8.std(ddof=1)"
   ]
  },
  {
   "cell_type": "code",
   "execution_count": 6,
   "metadata": {},
   "outputs": [
    {
     "data": {
      "text/plain": [
       "C1    0.187778\n",
       "C2   -0.395556\n",
       "C3    0.300000\n",
       "C4    0.237778\n",
       "C5    0.476667\n",
       "C6   -0.806667\n",
       "dtype: float64"
      ]
     },
     "execution_count": 6,
     "metadata": {},
     "output_type": "execute_result"
    }
   ],
   "source": [
    "## Here common mean value= 13.01\n",
    "## Sweeping the common value from the city means\n",
    "## The remainder is the city effect\n",
    "df9 = df.mean()-(df.mean()).mean()\n",
    "df9"
   ]
  },
  {
   "cell_type": "markdown",
   "metadata": {},
   "source": [
    "The common value = 13.01% which indicates that the mean annual interest on new car loans in the six cities\n",
    "\n",
    "C6 has the lowest rates on average among all the citeis. Its rates are 0.81% less than the overall mean.\n",
    "\n",
    "C5 has the highest rate, 0.48% more than the overall mean.\n",
    "\n",
    "Within a city the spread between the highest and lowest interest rates varies between 1.25% in C1 and 3.11% in C4"
   ]
  },
  {
   "cell_type": "code",
   "execution_count": 8,
   "metadata": {},
   "outputs": [
    {
     "data": {
      "image/png": "[encoded data removed]",
      "text/plain": [
       "<matplotlib.figure.Figure at 0xc30c0f0>"
      ]
     },
     "metadata": {},
     "output_type": "display_data"
    }
   ],
   "source": [
    "import seaborn as sns\n",
    "import matplotlib.pyplot as plt\n",
    "\n",
    "sns.boxplot(data=df)\n",
    "plt.show()"
   ]
  },
  {
   "cell_type": "markdown",
   "metadata": {},
   "source": [
    "### Infrences\n",
    "In C1, C3, C6, the median and the lower fourth are equal\n",
    "\n",
    "C5 has the highest average and C6 has the lowest\n",
    "\n",
    "In C4, rates vary more than those in any other city"
   ]
  },
  {
   "cell_type": "code",
   "execution_count": 18,
   "metadata": {
    "scrolled": false
   },
   "outputs": [
    {
     "data": {
      "image/png": "[encoded data removed]",
      "text/plain": [
       "<matplotlib.figure.Figure at 0xd1bd550>"
      ]
     },
     "metadata": {},
     "output_type": "display_data"
    }
   ],
   "source": [
    "f, axes = plt.subplots(2, 3, figsize=(20, 10), sharex=True)\n",
    "sns.despine(left=True)\n",
    "sns.set(color_codes=True)\n",
    "sns.distplot(df8['C1'],ax=axes[0, 0])\n",
    "sns.distplot(df8['C2'],ax=axes[0, 1])\n",
    "sns.distplot(df8['C3'],ax=axes[0, 2])\n",
    "sns.distplot(df8['C4'],ax=axes[1, 0])\n",
    "sns.distplot(df8['C5'],ax=axes[1, 1])\n",
    "sns.distplot(df8['C6'],ax=axes[1, 2])\n",
    "plt.show()\n",
    "#%stplotlib inline"
   ]
  },
  {
   "cell_type": "code",
   "execution_count": 19,
   "metadata": {},
   "outputs": [
    {
     "name": "stdout",
     "output_type": "stream",
     "text": [
      "C1 = KstestResult(statistic=0.28925736075397213, pvalue=0.3681663943599871)\n",
      "C2 = KstestResult(statistic=0.23850769258813037, pvalue=0.62036866943067426)\n",
      "C3 = KstestResult(statistic=0.24405019448627474, pvalue=0.58922413290084785)\n",
      "C4 = KstestResult(statistic=0.11384674466173861, pvalue=0.99981271574946451)\n",
      "C5 = KstestResult(statistic=0.19158332332915018, pvalue=0.89584842119888874)\n",
      "C6 = KstestResult(statistic=0.3820885778110471, pvalue=0.10855963790294099)\n"
     ]
    }
   ],
   "source": [
    "## Normality Test for the records\n",
    "print(\"C1 =\",stats.kstest(df8['C1'], 'norm'))\n",
    "print(\"C2 =\",stats.kstest(df8['C2'], 'norm'))\n",
    "print(\"C3 =\",stats.kstest(df8['C3'], 'norm'))\n",
    "print(\"C4 =\",stats.kstest(df8['C4'], 'norm'))\n",
    "print(\"C5 =\",stats.kstest(df8['C5'], 'norm'))\n",
    "print(\"C6 =\",stats.kstest(df8['C6'], 'norm'))"
   ]
  },
  {
   "cell_type": "code",
   "execution_count": null,
   "metadata": {
    "collapsed": true
   },
   "outputs": [],
   "source": []
  },
  {
   "cell_type": "markdown",
   "metadata": {},
   "source": [
    "The ANOVA test has important assumptions that must be satisfied in order for the associated p-value to be valid.\n",
    "\n",
    "    -The samples are independent.\n",
    "    -Each sample is from a normally distributed population.\n",
    "    -The population standard deviations of the groups are all equal. This property is known as homoscedasticity.\n",
    "    \n",
    "- In our example the Samples are independent of each other\n",
    "- Samples are not normally distributed population\n",
    "- The population standard deviation of the groups are not equal\n",
    "\n",
    "So, we will use non-parametric technique \"Kruskal-Wallis H-test\" which tests the \n",
    "\n",
    "##### Null hypothesis: that the population mean of all of cities (not similar in distribution shape) are equal\n",
    "\n",
    "##### Alternative Hypothesis : Atleast one city has that the population mean different than other cities mean"
   ]
  },
  {
   "cell_type": "code",
   "execution_count": 20,
   "metadata": {},
   "outputs": [
    {
     "data": {
      "text/plain": [
       "KruskalResult(statistic=19.229430696762385, pvalue=0.001741855923378492)"
      ]
     },
     "execution_count": 20,
     "metadata": {},
     "output_type": "execute_result"
    }
   ],
   "source": [
    "stats.kruskal(df['C1'], df['C2'], df['C3'], df['C4'], df['C5'], df['C6'] )"
   ]
  },
  {
   "cell_type": "markdown",
   "metadata": {},
   "source": [
    "#### Since the p-value is less than 0.05 (the alpha level for 95% confidence level), we can conclude that there is evidence that the the population mean of cities are not equal\n"
   ]
  },
  {
   "cell_type": "code",
   "execution_count": null,
   "metadata": {
    "collapsed": true
   },
   "outputs": [],
   "source": []
  },
  {
   "cell_type": "markdown",
   "metadata": {},
   "source": [
    "## Assumptions Satisfied\n",
    "Regression analysis has a few general assumptions while specific analysis techniques have added (or reduced) assumptions as well. The following are important general assumptions for regression analysis:\n",
    "\n",
    "    The training dataset needs to be representative of the population being modeled.\n",
    "\n",
    "    The independent variables are linearly independent\n",
    "    \n",
    "    Homoscedasticity of error, i.e. the variance of error, is consistent across the sample\n",
    "\n",
    "#### All the assumptions are satisfied for this example"
   ]
  }
 ],
 "metadata": {
  "kernelspec": {
   "display_name": "Python 3",
   "language": "python",
   "name": "python3"
  },
  "language_info": {
   "codemirror_mode": {
    "name": "ipython",
    "version": 3
   },
   "file_extension": ".py",
   "mimetype": "text/x-python",
   "name": "python",
   "nbconvert_exporter": "python",
   "pygments_lexer": "ipython3",
   "version": "3.6.4"
  }
 },
 "nbformat": 4,
 "nbformat_minor": 2
}
